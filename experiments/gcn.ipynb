{
 "metadata": {
  "language_info": {
   "codemirror_mode": {
    "name": "ipython",
    "version": 3
   },
   "file_extension": ".py",
   "mimetype": "text/x-python",
   "name": "python",
   "nbconvert_exporter": "python",
   "pygments_lexer": "ipython3",
   "version": "3.7.3"
  },
  "orig_nbformat": 2,
  "kernelspec": {
   "name": "python37364bitbasecondacb85f7fe456645c2afa50ecee9c0132f",
   "display_name": "Python 3.7.3 64-bit ('anaconda3': virtualenv)"
  },
  "metadata": {
   "interpreter": {
    "hash": "a578eb21eb1f0ffbce406cca18fb76957b43a943c95f6e1cf142c9c0a29ae48e"
   }
  }
 },
 "nbformat": 4,
 "nbformat_minor": 2,
 "cells": [
  {
   "source": [
    "# GCN\n",
    "\n",
    "Semi-Supervised Classification with Graph Convolutional Networks\n",
    "\n",
    "https://arxiv.org/abs/1609.02907\n",
    "\n"
   ],
   "cell_type": "markdown",
   "metadata": {}
  },
  {
   "cell_type": "code",
   "execution_count": null,
   "metadata": {},
   "outputs": [],
   "source": [
    "import sys\n",
    "sys.path.append(\"..\")\n",
    "sys.dont_write_bytecode = True\n",
    "\n",
    "import os\n",
    "import numpy as np\n",
    "import scipy.sparse as sp\n",
    "import tensorflow as tf\n",
    "%matplotlib inline\n",
    "import matplotlib.pyplot as plt\n",
    "\n",
    "from sklearn.manifold import TSNE\n",
    "from deep_recommenders.layers.gnn import GCN"
   ]
  },
  {
   "source": [
    "## 1 数据获取与处理\n",
    "\n",
    "### 1.1 数据集下载\n",
    "\n",
    "CORA数据集下载地址: https://linqs-data.soe.ucsc.edu/public/lbc/cora.tgz"
   ],
   "cell_type": "markdown",
   "metadata": {}
  },
  {
   "cell_type": "code",
   "execution_count": null,
   "metadata": {},
   "outputs": [],
   "source": [
    "!wget https://linqs-data.soe.ucsc.edu/public/lbc/cora.tgz -O cora.tgz\n",
    "!tar -zxvf cora.tgz"
   ]
  },
  {
   "source": [
    "### 1.2 读取数据集\n",
    "- Features归一化\n",
    "- Labels进行one-hot编码\n"
   ],
   "cell_type": "markdown",
   "metadata": {}
  },
  {
   "cell_type": "code",
   "execution_count": null,
   "metadata": {},
   "outputs": [],
   "source": [
    "idx_features_labels = np.genfromtxt(os.path.join(\"cora\", \"cora.content\"), dtype=np.dtype(str))\n",
    "features = sp.csr_matrix(idx_features_labels[:, 1:-1], dtype=np.float32)\n",
    "features /= features.sum(axis=1).reshape(-1, 1)\n",
    "\n",
    "# labels one-hot encoding\n",
    "labels = idx_features_labels[:, -1]\n",
    "classes = set(labels)\n",
    "classes_dict = {c: np.identity(len(classes))[i, :] for i, c in enumerate(classes)}\n",
    "onehot_labels = np.array(list(map(classes_dict.get, labels)), dtype=np.int32)"
   ]
  },
  {
   "source": [
    "### 1.3 构建邻接矩阵"
   ],
   "cell_type": "markdown",
   "metadata": {}
  },
  {
   "cell_type": "code",
   "execution_count": null,
   "metadata": {},
   "outputs": [],
   "source": [
    "def convert_symmetric(X, sparse=True):\n",
    "    if sparse:\n",
    "        X += X.T - sp.diags(X.diagonal())\n",
    "    else:\n",
    "        X += X.T - np.diag(X.diagonal())\n",
    "    return X\n",
    "\n",
    "def normalize_adj(adj, symmetric=True):\n",
    "    if symmetric:\n",
    "        d = sp.diags(np.power(np.array(adj.sum(1)), -0.5).flatten(), 0)\n",
    "        a_norm = adj.dot(d).transpose().dot(d).tocsr()\n",
    "    else:\n",
    "        d = sp.diags(np.power(np.array(adj.sum(1)), -1).flatten(), 0)\n",
    "        a_norm = d.dot(adj).tocsr()\n",
    "    return a_norm\n",
    "\n",
    "def preprocess_adj(adj, symmetric=True):\n",
    "    adj = adj + sp.eye(adj.shape[0])\n",
    "    adj = normalize_adj(adj, symmetric)\n",
    "    return adj\n",
    "\n",
    "# 构建邻接矩阵\n",
    "idx = np.array(idx_features_labels[:, 0], dtype=np.int32)\n",
    "idx_map = {j: i for i, j in enumerate(idx)}\n",
    "edges_unordered = np.genfromtxt(os.path.join(\"cora\", \"cora.cites\"), dtype=np.int32)\n",
    "edges = np.array(list(map(idx_map.get, edges_unordered.flatten())),\n",
    "                     dtype=np.int32).reshape(edges_unordered.shape)\n",
    "adj = sp.coo_matrix((np.ones(edges.shape[0]), (edges[:, 0], edges[:, 1])),\n",
    "                        shape=(onehot_labels.shape[0], onehot_labels.shape[0]), dtype=np.float32)\n",
    "adj = convert_symmetric(adj)\n",
    "adj = preprocess_adj(adj)"
   ]
  },
  {
   "source": [
    "### 1.4 切割数据集"
   ],
   "cell_type": "markdown",
   "metadata": {}
  },
  {
   "cell_type": "code",
   "execution_count": null,
   "metadata": {},
   "outputs": [],
   "source": [
    "def sample_mask(idx, l):\n",
    "    mask = np.zeros(l)\n",
    "    mask[idx] = 1\n",
    "    return np.array(mask, dtype=np.bool)\n",
    "\n",
    "def get_splits(y,):\n",
    "    idx_list = np.arange(len(y))\n",
    "    # train_val, idx_test = train_test_split(idx_list, test_size=0.2, random_state=1024)  # 1000\n",
    "    # idx_train, idx_val = train_test_split(train_val, test_size=0.2, random_state=1024)  # 500\n",
    "\n",
    "    idx_train = []\n",
    "    label_count = {}\n",
    "    for i, label in enumerate(y):\n",
    "        label = np.argmax(label)\n",
    "        if label_count.get(label, 0) < 20:\n",
    "            idx_train.append(i)\n",
    "            label_count[label] = label_count.get(label, 0) + 1\n",
    "\n",
    "    idx_val_test = list(set(idx_list) - set(idx_train))\n",
    "    idx_val = idx_val_test[0:500]\n",
    "    idx_test = idx_val_test[500:1500]\n",
    "\n",
    "    y_train = np.zeros(y.shape, dtype=np.int32)\n",
    "    y_val = np.zeros(y.shape, dtype=np.int32)\n",
    "    y_test = np.zeros(y.shape, dtype=np.int32)\n",
    "    y_train[idx_train] = y[idx_train]\n",
    "    y_val[idx_val] = y[idx_val]\n",
    "    y_test[idx_test] = y[idx_test]\n",
    "    train_mask = sample_mask(idx_train, y.shape[0])\n",
    "    val_mask = sample_mask(idx_val, y.shape[0])\n",
    "    test_mask = sample_mask(idx_test, y.shape[0])\n",
    "\n",
    "    return y_train, y_val, y_test,train_mask, val_mask, test_mask\n",
    "\n",
    "y_train, y_val, y_test, train_mask, val_mask, test_mask = get_splits(onehot_labels)"
   ]
  },
  {
   "source": [
    "## 2 模型构建与训练\n",
    "\n",
    "### 2.1 构建模型"
   ],
   "cell_type": "markdown",
   "metadata": {}
  },
  {
   "cell_type": "code",
   "execution_count": null,
   "metadata": {},
   "outputs": [],
   "source": [
    "def build_gcn(adj_dim, embddings_dim, num_classes):\n",
    "    adj = tf.keras.layers.Input(shape=(adj_dim,))\n",
    "    embeddings = tf.keras.layers.Input(shape=(embddings_dim,))\n",
    "\n",
    "    x = GCN(64)(embeddings, adj)\n",
    "    x = GCN(64)(x, adj)\n",
    "    outputs = GCN(num_classes, activation=\"softmax\")(x, adj)\n",
    "    return tf.keras.Model([adj, embeddings], outputs)"
   ]
  },
  {
   "source": [
    "### 2.2 训练模型"
   ],
   "cell_type": "markdown",
   "metadata": {}
  },
  {
   "cell_type": "code",
   "execution_count": null,
   "metadata": {},
   "outputs": [],
   "source": [
    "model = build_gcn(adj.shape[-1], features.shape[-1], y_train.shape[1])\n",
    "model.compile(\n",
    "    optimizer=tf.keras.optimizers.Adam(0.01), \n",
    "    loss=\"categorical_crossentropy\",\n",
    "    weighted_metrics=[\"acc\"]\n",
    ")\n",
    "model.fit(\n",
    "    [adj, features],\n",
    "    y_train,\n",
    "    sample_weight=train_mask, \n",
    "    validation_data=([adj, features], y_val, val_mask),\n",
    "    batch_size=adj.shape[0], \n",
    "    epochs=200, \n",
    "    shuffle=False, \n",
    "    verbose=2, \n",
    "    callbacks=[tf.keras.callbacks.EarlyStopping(patience=5)])"
   ]
  },
  {
   "source": [
    "### 2.3 模型验证"
   ],
   "cell_type": "markdown",
   "metadata": {}
  },
  {
   "cell_type": "code",
   "execution_count": null,
   "metadata": {},
   "outputs": [],
   "source": [
    "eval_results = model.evaluate(\n",
    "        [adj, features], \n",
    "        y_test, \n",
    "        sample_weight=test_mask, \n",
    "        batch_size=adj.shape[0],\n",
    "        verbose=0)\n",
    "print(\"Test Loss: {:.4f}\".format(eval_results[0]))\n",
    "print(\"Test Accuracy: {:.4f}\".format(eval_results[1]))"
   ]
  },
  {
   "source": [
    "## 3 可视化Embedding\n",
    "\n",
    "### 3.1 提取节点Embedding "
   ],
   "cell_type": "markdown",
   "metadata": {}
  },
  {
   "cell_type": "code",
   "execution_count": null,
   "metadata": {},
   "outputs": [],
   "source": [
    "embedding_model = tf.keras.Model(model.input, outputs=model.layers[-1].output)\n",
    "embedding_weights = embedding_model.predict([adj, features], batch_size=adj.shape[0])"
   ]
  },
  {
   "source": [
    "### 3.2 TSNE可视化"
   ],
   "cell_type": "markdown",
   "metadata": {}
  },
  {
   "cell_type": "code",
   "execution_count": null,
   "metadata": {},
   "outputs": [],
   "source": [
    "def plot_embeddings(embeddings, X, Y):\n",
    "\n",
    "    emb_list = []\n",
    "    for k in X:\n",
    "        emb_list.append(embeddings[k])\n",
    "    emb_list = np.array(emb_list)\n",
    "\n",
    "    model = TSNE(n_components=2)\n",
    "    node_pos = model.fit_transform(emb_list)\n",
    "\n",
    "    color_idx = {}\n",
    "    for i in range(len(X)):\n",
    "        color_idx.setdefault(Y[i][:], [])\n",
    "        color_idx[Y[i][:]].append(i)\n",
    "\n",
    "    for c, idx in color_idx.items():\n",
    "        plt.scatter(node_pos[idx, 0], node_pos[idx, 1], label=c)\n",
    "    plt.legend()\n",
    "    plt.savefig(\"assets/gcn_embeddings.png\")\n",
    "    plt.show()\n",
    "\n",
    "y  = np.genfromtxt(os.path.join(\"cora\", \"cora.content\"), dtype=np.dtype(str))[:, -1]\n",
    "plot_embeddings(embedding_weights, np.arange(adj.shape[0]), y)"
   ]
  }
 ]
}