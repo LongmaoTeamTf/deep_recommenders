{
 "metadata": {
  "language_info": {
   "codemirror_mode": {
    "name": "ipython",
    "version": 3
   },
   "file_extension": ".py",
   "mimetype": "text/x-python",
   "name": "python",
   "nbconvert_exporter": "python",
   "pygments_lexer": "ipython3",
   "version": "3.7.3-final"
  },
  "orig_nbformat": 2,
  "kernelspec": {
   "name": "python3",
   "display_name": "Python 3.7.3 64-bit ('base': conda)",
   "metadata": {
    "interpreter": {
     "hash": "a578eb21eb1f0ffbce406cca18fb76957b43a943c95f6e1cf142c9c0a29ae48e"
    }
   }
  }
 },
 "nbformat": 4,
 "nbformat_minor": 2,
 "cells": [
  {
   "cell_type": "markdown",
   "source": [
    "# Transformer 模型\n",
    "\n",
    "Attention Is All You Need\n",
    "\n",
    "https://arxiv.org/abs/1706.03762"
   ],
   "metadata": {}
  },
  {
   "cell_type": "code",
   "execution_count": null,
   "source": [
    "import sys\r\n",
    "sys.path.append(\"..\")\r\n",
    "sys.dont_write_bytecode = True\r\n",
    "\r\n",
    "import tensorflow as tf\r\n",
    "\r\n",
    "from deep_recommenders.keras.models.nlp import Transformer"
   ],
   "outputs": [],
   "metadata": {}
  },
  {
   "cell_type": "markdown",
   "source": [
    "## 数据准备\n",
    "\n",
    "imdb数据集的预处理和分割"
   ],
   "metadata": {}
  },
  {
   "cell_type": "code",
   "execution_count": null,
   "source": [
    "vocab_size = 5000\r\n",
    "max_len = 256\r\n",
    "\r\n",
    "(x_train, y_train), (x_test, y_test) = tf.keras.datasets.imdb.load_data(maxlen=max_len, num_words=vocab_size)\r\n",
    "x_train = tf.keras.preprocessing.sequence.pad_sequences(x_train, maxlen=max_len)\r\n",
    "x_test = tf.keras.preprocessing.sequence.pad_sequences(x_test, maxlen=max_len)\r\n",
    "x_train_masks = tf.equal(x_train, 0)\r\n",
    "x_test_masks = tf.equal(x_test, 0)\r\n",
    "y_train = tf.keras.utils.to_categorical(y_train)\r\n",
    "y_test = tf.keras.utils.to_categorical(y_test)"
   ],
   "outputs": [],
   "metadata": {}
  },
  {
   "cell_type": "markdown",
   "source": [
    "## 构建模型\n",
    "\n",
    "encoder_inputs, decoder_inputs => Transformer => GlobalAveragePooling => Dense(2)\n"
   ],
   "metadata": {}
  },
  {
   "cell_type": "code",
   "execution_count": null,
   "source": [
    "model_dim = 8\r\n",
    "batch_size = 128\r\n",
    "epochs = 10\r\n",
    "\r\n",
    "encoder_inputs = tf.keras.Input(shape=(max_len,), name='encoder_inputs')\r\n",
    "decoder_inputs = tf.keras.Input(shape=(max_len,), name='decoder_inputs')\r\n",
    "outputs = Transformer(\r\n",
    "    vocab_size, \r\n",
    "    model_dim, \r\n",
    "    n_heads=2, \r\n",
    "    encoder_stack=2,\r\n",
    "    decoder_stack=2, \r\n",
    "    feed_forward_size=50\r\n",
    ")(encoder_inputs, decoder_inputs)\r\n",
    "outputs = tf.keras.layers.GlobalAveragePooling1D()(outputs)\r\n",
    "outputs = tf.keras.layers.Dense(2, activation='softmax')(outputs)\r\n",
    "model = tf.keras.Model(inputs=[encoder_inputs, decoder_inputs], outputs=outputs)\r\n",
    "\r\n",
    "model.compile(optimizer=tf.keras.optimizers.Adam(beta_1=0.9, beta_2=0.98, epsilon=1e-9), \r\n",
    "    loss='categorical_crossentropy', metrics=['accuracy'])"
   ],
   "outputs": [],
   "metadata": {}
  },
  {
   "cell_type": "markdown",
   "source": [
    "## 模型训练\n",
    "\n",
    "使用早停防止过拟合。"
   ],
   "metadata": {}
  },
  {
   "cell_type": "code",
   "execution_count": null,
   "source": [
    "es = EarlyStopping(patience=3)\r\n",
    "model.fit([x_train, x_train_masks], y_train, \r\n",
    "    batch_size=batch_size, epochs=epochs, validation_split=0.2, callbacks=[es])"
   ],
   "outputs": [],
   "metadata": {}
  },
  {
   "cell_type": "markdown",
   "source": [
    "## 模型评估"
   ],
   "metadata": {}
  },
  {
   "cell_type": "code",
   "execution_count": null,
   "source": [
    "test_metrics = model.evaluate([x_test, x_test_masks], y_test, batch_size=batch_size, verbose=0)\n",
    "print(\"loss on Test: %.4f\" % test_metrics[0])\n",
    "print(\"accu on Test: %.4f\" % test_metrics[1])"
   ],
   "outputs": [],
   "metadata": {}
  }
 ]
}