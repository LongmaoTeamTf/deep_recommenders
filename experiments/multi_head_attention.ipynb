{
 "metadata": {
  "language_info": {
   "codemirror_mode": {
    "name": "ipython",
    "version": 3
   },
   "file_extension": ".py",
   "mimetype": "text/x-python",
   "name": "python",
   "nbconvert_exporter": "python",
   "pygments_lexer": "ipython3",
   "version": "3.7.3-final"
  },
  "orig_nbformat": 2,
  "kernelspec": {
   "name": "python3",
   "display_name": "Python 3.7.3 64-bit ('base': conda)",
   "metadata": {
    "interpreter": {
     "hash": "a578eb21eb1f0ffbce406cca18fb76957b43a943c95f6e1cf142c9c0a29ae48e"
    }
   }
  }
 },
 "nbformat": 4,
 "nbformat_minor": 2,
 "cells": [
  {
   "source": [
    "# Multi-head-attention 模型\n",
    "\n",
    "Attention Is All You Need\n",
    "\n",
    "https://arxiv.org/abs/1706.03762"
   ],
   "cell_type": "markdown",
   "metadata": {}
  },
  {
   "cell_type": "code",
   "execution_count": null,
   "metadata": {},
   "outputs": [],
   "source": [
    "import sys\n",
    "sys.path.append(\"..\")\n",
    "sys.dont_write_bytecode = True\n",
    "\n",
    "import tensorflow as tf\n",
    "\n",
    "from deep_recommenders.layers.nlp.multi_head_attention import MultiHeadAttention"
   ]
  },
  {
   "source": [
    "## 数据准备\n",
    "\n",
    "imdb数据集的预处理和分割"
   ],
   "cell_type": "markdown",
   "metadata": {}
  },
  {
   "cell_type": "code",
   "execution_count": null,
   "metadata": {},
   "outputs": [],
   "source": [
    "vocab_size = 5000\n",
    "max_len = 256\n",
    "\n",
    "(x_train, y_train), (x_test, y_test) = tf.keras.datasets.imdb.load_data(maxlen=max_len, num_words=vocab_size)\n",
    "x_train = tf.keras.preprocessing.sequence.pad_sequences(x_train, maxlen=max_len)\n",
    "x_test = tf.keras.preprocessing.sequence.pad_sequences(x_test, maxlen=max_len)\n",
    "x_train_masks = tf.equal(x_train, 0)\n",
    "x_test_masks = tf.equal(x_test, 0)\n",
    "y_train = tf.keras.utils.to_categorical(y_train)\n",
    "y_test = tf.keras.utils.to_categorical(y_test)"
   ]
  },
  {
   "source": [
    "## 模型构建\n",
    "\n",
    "inputs, masks => Embedding => MultiHeadAttention => GlobalAveragePooling => Dense(10) => Relu => Dense(2)\n"
   ],
   "cell_type": "markdown",
   "metadata": {}
  },
  {
   "cell_type": "code",
   "execution_count": null,
   "metadata": {},
   "outputs": [],
   "source": [
    "model_dim = 32\n",
    "batch_size = 256\n",
    "epochs = 10\n",
    "\n",
    "inputs = tf.keras.Input(shape=(max_len,), name=\"inputs\")\n",
    "masks = tf.keras.Input(shape=(max_len,), name='masks')\n",
    "embeddings = tf.keras.layers.Embedding(vocab_size, model_dim)(inputs)\n",
    "x = MultiHeadAttention(2, 16)([embeddings, embeddings, embeddings, masks])\n",
    "x = tf.keras.layers.GlobalAveragePooling1D()(x)\n",
    "x = tf.keras.layers.Dropout(0.2)(x)\n",
    "x = tf.keras.layers.Dense(10, activation='relu')(x)\n",
    "outputs = tf.keras.layers.Dense(2, activation='softmax')(x)\n",
    "\n",
    "model = tf.keras.Model(inputs=[inputs, masks], outputs=outputs)\n",
    "model.compile(optimizer=tf.keras.optimizers.Adam(beta_1=0.9, beta_2=0.98, epsilon=1e-9), \n",
    "    loss='categorical_crossentropy', metrics=['accuracy'])"
   ]
  },
  {
   "source": [
    "## 模型训练\n",
    "\n",
    "使用早停策略防止过拟合。"
   ],
   "cell_type": "markdown",
   "metadata": {}
  },
  {
   "cell_type": "code",
   "execution_count": null,
   "metadata": {},
   "outputs": [],
   "source": [
    "es = tf.keras.callbacks.EarlyStopping(patience=3)\n",
    "model.fit([x_train, x_train_masks], y_train, \n",
    "    batch_size=batch_size, epochs=epochs, validation_split=0.2, callbacks=[es])"
   ]
  },
  {
   "source": [
    "## 模型评估"
   ],
   "cell_type": "markdown",
   "metadata": {}
  },
  {
   "cell_type": "code",
   "execution_count": null,
   "metadata": {},
   "outputs": [],
   "source": [
    "test_metrics = model.evaluate([x_test, x_test_masks], y_test, batch_size=batch_size, verbose=0)\n",
    "print(\"loss on Test: %.4f\" % test_metrics[0])\n",
    "print(\"accu on Test: %.4f\" % test_metrics[1])\n",
    "\n",
    "# loss on Test: 0.3308\n",
    "# accu on Test: 0.8777"
   ]
  }
 ]
}